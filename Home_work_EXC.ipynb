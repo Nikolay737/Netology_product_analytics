{
 "cells": [
  {
   "cell_type": "markdown",
   "metadata": {},
   "source": [
    "# Домашнее задание к лекции «Исключения и обработка ошибок»"
   ]
  },
  {
   "cell_type": "code",
   "execution_count": null,
   "metadata": {},
   "outputs": [],
   "source": [
    "from datetime import datetime, timedelta"
   ]
  },
  {
   "cell_type": "code",
   "execution_count": 9,
   "metadata": {},
   "outputs": [
    {
     "name": "stdout",
     "output_type": "stream",
     "text": [
      "\"Wednesday, October 2, 2002\" это в формате The Moscow Times\n",
      "\"Friday, 11.10.13\" это в формате The Guardian\n",
      "\"Thursday, 18 August 1977\" это в формате Daily News\n",
      "\"2020-04-05\" не известный формат даты\n"
     ]
    }
   ],
   "source": [
    "# Задание 1\n",
    "# Печатные газеты использовали свой формат дат для каждого выпуска.\n",
    "# Для каждой газеты из списка напишите формат указанной даты для перевода\n",
    "# в объект datetime:\n",
    "# The Moscow Times - Wednesday, October 2, 2002\n",
    "# The Guardian - Friday, 11.10.13\n",
    "# Daily News - Thursday, 18 August 1977\n",
    "\n",
    "NEWSPAPER_FMT = {\n",
    "    'The Moscow Times': '%A, %B %d, %Y',\n",
    "    'The Guardian': '%A, %m.%d.%y',\n",
    "    'Daily News': '%A, %d %B %Y',\n",
    "}\n",
    "data = (\n",
    "    'Wednesday, October 2, 2002',\n",
    "    'Friday, 11.10.13',\n",
    "    'Thursday, 18 August 1977',\n",
    "    '2020-04-05',\n",
    ")\n",
    "\n",
    "for ds in data:\n",
    "    for name, fmt in NEWSPAPER_FMT.items():\n",
    "        try:\n",
    "            dt = datetime.strptime(ds, fmt)\n",
    "            print('\"{}\" это в формате {}'.format(ds, name))\n",
    "            break\n",
    "        except ValueError:\n",
    "            pass\n",
    "    else:\n",
    "        print('\"{}\" не известный формат даты'.format(ds))"
   ]
  },
  {
   "cell_type": "code",
   "execution_count": 11,
   "metadata": {},
   "outputs": [
    {
     "data": {
      "text/plain": [
       "[True, False, False]"
      ]
     },
     "execution_count": 11,
     "metadata": {},
     "output_type": "execute_result"
    }
   ],
   "source": [
    "# Задание 2\n",
    "# Дан поток дат в формате YYYY-MM-DD, в которых встречаются некорректные\n",
    "# значения:\n",
    "# stream = [‘2018-04-02’, ‘2018-02-29’, ‘2018-19-02’]\n",
    "#\n",
    "# Напишите функцию, которая проверяет эти даты на корректность. Т. е. для\n",
    "# каждой даты возвращает True (дата корректна) или False (некорректная дата).\n",
    "\n",
    "def ex2(stream):\n",
    "    res = []\n",
    "    for dt in stream:\n",
    "        try:\n",
    "            datetime.strptime(dt, '%Y-%m-%d')\n",
    "            res.append(True)\n",
    "        except ValueError:\n",
    "            res.append(False)\n",
    "    return res\n",
    "\n",
    "stream = ['2018-04-02', '2018-02-29', '2018-19-02']\n",
    "ex2(stream)"
   ]
  },
  {
   "cell_type": "code",
   "execution_count": 26,
   "metadata": {},
   "outputs": [
    {
     "data": {
      "text/plain": [
       "['2018-01-19',\n",
       " '2018-01-20',\n",
       " '2018-01-21',\n",
       " '2018-01-22',\n",
       " '2018-01-23',\n",
       " '2018-01-24',\n",
       " '2018-01-25',\n",
       " '2018-01-26',\n",
       " '2018-01-27',\n",
       " '2018-01-28',\n",
       " '2018-01-29',\n",
       " '2018-01-30',\n",
       " '2018-01-31',\n",
       " '2018-02-01',\n",
       " '2018-02-02',\n",
       " '2018-02-03',\n",
       " '2018-02-04',\n",
       " '2018-02-05',\n",
       " '2018-02-06',\n",
       " '2018-02-07',\n",
       " '2018-02-08']"
      ]
     },
     "execution_count": 26,
     "metadata": {},
     "output_type": "execute_result"
    }
   ],
   "source": [
    "# Задание 3\n",
    "# Напишите функцию date_range, которая возвращает список дат за период\n",
    "# от start_date до end_date. Даты должны вводиться в формате YYYY-MM-DD.\n",
    "# В случае неверного формата или при start_date > end_date должен возвращаться\n",
    "# пустой список.\n",
    "\n",
    "def date_range(start_date, end_date):\n",
    "    res = []\n",
    "    try:\n",
    "        from_dt = datetime.strptime(start_date, '%Y-%m-%d')\n",
    "        to_dt = datetime.strptime(end_date, '%Y-%m-%d')\n",
    "        while(from_dt <= to_dt):\n",
    "            res.append(from_dt.strftime('%Y-%m-%d'))\n",
    "            from_dt += timedelta(days=1)\n",
    "    except ValueError:\n",
    "        pass\n",
    "    return res\n",
    "\n",
    "start_date = ('2018-01-19')\n",
    "end_date = ('2018-02-08')\n",
    "date_range(start_date, end_date)"
   ]
  }
 ],
 "metadata": {
  "kernelspec": {
   "display_name": "Python 3",
   "language": "python",
   "name": "python3"
  },
  "language_info": {
   "codemirror_mode": {
    "name": "ipython",
    "version": 3
   },
   "file_extension": ".py",
   "mimetype": "text/x-python",
   "name": "python",
   "nbconvert_exporter": "python",
   "pygments_lexer": "ipython3",
   "version": "3.8.3"
  }
 },
 "nbformat": 4,
 "nbformat_minor": 4
}
