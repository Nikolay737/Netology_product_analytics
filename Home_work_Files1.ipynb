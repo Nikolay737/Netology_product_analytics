{
 "cells": [
  {
   "cell_type": "code",
   "execution_count": 2,
   "metadata": {},
   "outputs": [],
   "source": [
    "# Задание 1.\n",
    "# Переведите содержимое файла purchase_log.txt в словарь purchases вида:\n",
    "# {‘1840e0b9d4’: ‘Продукты’, …}\n",
    "#\n",
    "# Задание 2.\n",
    "# Для каждого user_id в файле visit_log.csv определите третий столбец\n",
    "# с категорией покупки (если покупка была, сам файл visit_log.csv изменять\n",
    "# не надо). Запишите в файл funnel.csv визиты из файла visit_log.csv,\n",
    "# в которых были покупки с указанием категории.\n",
    "#\n",
    "# Учтите условия на данные:\n",
    "# содержимое purchase_log.txt помещается в оперативную память компьютера\n",
    "# содержимое visit_log.csv - нет; используйте только построчную\n",
    "# обработку этого файла\n",
    "\n",
    "# Задание 1.\n",
    "# импортируем модуль для работы с json\n",
    "import json\n",
    "# открываем файл, указав кодировку\n",
    "with open('purchase_log.txt', 'r', encoding='utf-8') as f:\n",
    "    f.readline()    # пропустим первую строку с заголовками\n",
    "    purchases = dict(json.loads(ln).values() for ln in f)\n",
    "\n",
    "# Задание 2.\n",
    "# импортируем модуль для работы с CSV файлами\n",
    "import csv\n",
    "# открываем файл визитов с, указав кодировку \n",
    "with open('visit_log.csv', 'r', encoding='utf-8') as log:\n",
    "    log.readline()  # пропустим первую строку с заголовками\n",
    "    # содадим генератор по визитам, файл при этом обрабатывается\n",
    "    # построчно по мере выборки значений из генератора ниже в цикле\n",
    "    visits = (ln.strip().split(',') for ln in log)\n",
    "    # открываем файл визитов с покупками для записи, указав кодировку\n",
    "    with open('funnel.csv', 'w', encoding='utf-8', newline='') as fd:\n",
    "        # подготовливаем обработчик для записи в CSV файл, исползуем его\n",
    "        # т.к. нет уверенности что в категории не может быть запятой.\n",
    "        # поэтому работа через данный обработчик, позволяет нам корректно\n",
    "        # обработать такой случай и заэкранировать или закавычить строку \n",
    "        f = csv.writer(fd, delimiter=',', doublequote=False,\n",
    "                quoting=csv.QUOTE_NONE, quotechar=\"'\")\n",
    "        # запишем заголовок CSV файла\n",
    "        f.writerow(('user_id', 'source', 'category'))\n",
    "        for visit in visits:\n",
    "            if visit[0] not in purchases:\n",
    "                # ничего не делаем, если визит был без покупки\n",
    "                continue\n",
    "            # иначе добавляем третий столбец с категорий\n",
    "            visit.append(purchases[visit[0]])\n",
    "            # и записываем эту строку в funnel.csv\n",
    "            f.writerow(visit)\n",
    "\n"
   ]
  }
 ],
 "metadata": {
  "kernelspec": {
   "display_name": "Python 3",
   "language": "python",
   "name": "python3"
  },
  "language_info": {
   "codemirror_mode": {
    "name": "ipython",
    "version": 3
   },
   "file_extension": ".py",
   "mimetype": "text/x-python",
   "name": "python",
   "nbconvert_exporter": "python",
   "pygments_lexer": "ipython3",
   "version": "3.8.3"
  }
 },
 "nbformat": 4,
 "nbformat_minor": 4
}
