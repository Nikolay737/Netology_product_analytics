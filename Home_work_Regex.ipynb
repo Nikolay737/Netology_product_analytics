{
 "cells": [
  {
   "cell_type": "markdown",
   "metadata": {},
   "source": [
    "# Регулярные выражения и основы синтаксического разбора"
   ]
  },
  {
   "cell_type": "code",
   "execution_count": 2,
   "metadata": {},
   "outputs": [],
   "source": [
    "#сначала импортируем нужные модули\n",
    "from collections import Counter\n",
    "import re"
   ]
  },
  {
   "cell_type": "code",
   "execution_count": 23,
   "metadata": {},
   "outputs": [
    {
     "name": "stdout",
     "output_type": "stream",
     "text": [
      "Номер А222ВС валиден. Регион: 96\n",
      "Номер А345УТ валиден. Регион: 777\n",
      "Номер не валиден\n"
     ]
    }
   ],
   "source": [
    "# Задание 1\n",
    "# Напишите функцию, которая принимает на вход строку и проверяет является ли она\n",
    "# валидным транспортным номером (1 буква, 3 цифры, 2 буквы, 2-3 цифры).\n",
    "\n",
    "def ex1(car_id):\n",
    "    # валидные буквы для номера: АВЕКМНОРСТУ\n",
    "    s = car_id.upper()\n",
    "    m = re.match(r'([АВЕКМНОРСТУ]\\d{3}[АВЕКМНОРСТУ]{2})(\\d{2,3})$', s)\n",
    "    if m:\n",
    "        print('Номер {} валиден. Регион: {}'.format(m[1], m[2]))\n",
    "    else:\n",
    "        print('Номер не валиден')\n",
    "        \n",
    "car_id = 'А222ВС96'\n",
    "ex1(car_id)\n",
    "\n",
    "car_id = 'А345УТ777'\n",
    "ex1(car_id)\n",
    "\n",
    "car_id = 'А3455УТ777'\n",
    "ex1(car_id) "
   ]
  },
  {
   "cell_type": "code",
   "execution_count": 4,
   "metadata": {},
   "outputs": [
    {
     "data": {
      "text/plain": [
       "'Напишите функцию, которая будет удалять все последовательные повторы слов из заданной строки при помощи регулярных выражений'"
      ]
     },
     "execution_count": 4,
     "metadata": {},
     "output_type": "execute_result"
    }
   ],
   "source": [
    "# Задание 2\n",
    "# Напишите функцию, которая будет удалять все последовательные повторы слов\n",
    "# из заданной строки при помощи регулярных выражений.\n",
    "\n",
    "def ex2(string):\n",
    "    return re.sub(r'\\b(\\w+)(?:\\s+\\1\\b)+', r'\\g<1>', string, count=0, flags=re.I)\n",
    "\n",
    "ex2('Напишите функцию функцию, которая будет будет будет будет удалять все все все все последовательные повторы слов из из из из заданной строки строки при помощи регулярных выражений')"
   ]
  },
  {
   "cell_type": "code",
   "execution_count": 5,
   "metadata": {
    "scrolled": true
   },
   "outputs": [
    {
     "data": {
      "text/plain": [
       "'ИТ'"
      ]
     },
     "execution_count": 5,
     "metadata": {},
     "output_type": "execute_result"
    }
   ],
   "source": [
    "# Задание 3\n",
    "# Напишите функцию, которая будет возвращать акроним по переданной\n",
    "# в нее строке со словами.\n",
    "def ex3(string):\n",
    "    first_chars = (ch.upper() for ch in re.findall(r'\\b(\\w)\\w*\\b', string))\n",
    "    return ''.join(first_chars)\n",
    "\n",
    "some_words = 'Информационные технологии'\n",
    "ex3(some_words)"
   ]
  },
  {
   "cell_type": "code",
   "execution_count": 6,
   "metadata": {
    "scrolled": false
   },
   "outputs": [
    {
     "data": {
      "text/plain": [
       "{'gmail.com': 2, 'test.in': 1, 'ya.ru': 2, 'mail.ru': 1}"
      ]
     },
     "execution_count": 6,
     "metadata": {},
     "output_type": "execute_result"
    }
   ],
   "source": [
    "# Задание 4\n",
    "# Напишите функцию, которая будет принимать на вход список email-адресов\n",
    "# и выводить их распределение по доменным зонам.\n",
    "\n",
    "def ex4(emails):\n",
    "    c = Counter(m.split('@')[1] for m in emails)\n",
    "    return dict(c)\n",
    "\n",
    "emails = ['test@gmail.com', 'xyz@test.in', 'test@ya.ru', 'xyz@mail.ru', 'xyz@ya.ru', 'xyz@gmail.com']\n",
    "ex4(emails) "
   ]
  },
  {
   "cell_type": "code",
   "execution_count": 7,
   "metadata": {
    "scrolled": true
   },
   "outputs": [
    {
     "name": "stdout",
     "output_type": "stream",
     "text": [
      "Слов на гласные буквы:  9\n",
      "Слов на согласные буквы:  21\n",
      "Слов на другие символы:  0\n"
     ]
    }
   ],
   "source": [
    "# Задание 5 (необязательное)\n",
    "# Напишите функцию, которая будет подсчитывать сколько слов начинается\n",
    "# на гласные, а сколько на согласные буквы в тексте (текст может быть написан\n",
    "# как с использованием букв кириллицы, так и латиницы).\n",
    "def ex5(string):\n",
    "    VOVELS = ('AEIOU' 'АЕЁИОУЫЭЮЯ')\n",
    "    CONSONANTS = ('BCDFGHJKLMNPQRSTVWXZY' 'БВГДЖЗЙКЛМНПРСТФХЦЧШЩ')\n",
    "    vc, cc, oc = 0, 0, 0\n",
    "    first_chars = (ch.upper() for ch in re.findall(r'\\b(\\w)\\w*\\b', string))\n",
    "    for ch in first_chars:\n",
    "        if ch in VOVELS:\n",
    "            vc += 1\n",
    "        elif ch in CONSONANTS:\n",
    "            cc += 1\n",
    "        else:\n",
    "            oc += 1\n",
    "    print('Слов на гласные буквы: ', vc)\n",
    "    print('Слов на согласные буквы: ', cc)\n",
    "    print('Слов на другие символы: ', oc)\n",
    "\n",
    "some_text = 'Эталонной реализацией Python является интерпретатор CPython, поддерживающий большинство активно используемых платформ. Он распространяется под свободной лицензией Python Software Foundation License, позволяющей использовать его без ограничений в любых приложениях, включая проприетарные.'\n",
    "ex5(some_text) "
   ]
  }
 ],
 "metadata": {
  "kernelspec": {
   "display_name": "Python 3",
   "language": "python",
   "name": "python3"
  },
  "language_info": {
   "codemirror_mode": {
    "name": "ipython",
    "version": 3
   },
   "file_extension": ".py",
   "mimetype": "text/x-python",
   "name": "python",
   "nbconvert_exporter": "python",
   "pygments_lexer": "ipython3",
   "version": "3.8.3"
  }
 },
 "nbformat": 4,
 "nbformat_minor": 4
}
