{
 "cells": [
  {
   "cell_type": "markdown",
   "metadata": {},
   "source": [
    "# Основы Python"
   ]
  },
  {
   "cell_type": "markdown",
   "metadata": {},
   "source": [
    "## Задание №1\n",
    "Напишите код, который проверяет какая из этих строк длиннее."
   ]
  },
  {
   "cell_type": "code",
   "execution_count": 100,
   "metadata": {},
   "outputs": [
    {
     "name": "stdout",
     "output_type": "stream",
     "text": [
      "фраза 1 длинее фразы 2\n"
     ]
    }
   ],
   "source": [
    "phrase_1 = 'Насколько проще было бы писать программы, если бы не заказчики'\n",
    "phrase_2 = '640Кб должно хватить для любых задач. Билл Гейтс (по легенде)'\n",
    "a = len(phrase_1)\n",
    "b = len(phrase_2) \n",
    "if a > b: \n",
    "    print ('фраза 1 длинее фразы 2')\n",
    "elif a == b: \n",
    "    print ('Фразы равной длины')\n",
    "else: \n",
    "    print ('фраза 2 длиннее фразы 1')    "
   ]
  },
  {
   "cell_type": "code",
   "execution_count": 101,
   "metadata": {},
   "outputs": [
    {
     "name": "stdout",
     "output_type": "stream",
     "text": [
      "фраза 2 длиннее фразы 1\n"
     ]
    }
   ],
   "source": [
    "phrase_1 = '640Кб должно хватить для любых задач. Билл Гейтс (по легенде)'\n",
    "phrase_2 = 'Насколько проще было бы писать программы, если бы не заказчики'\n",
    "\n",
    "a = len(phrase_1)\n",
    "b = len(phrase_2) \n",
    "\n",
    "if a > b: \n",
    "    print ('фраза 1 длинее фразы 2')\n",
    "elif a == b: \n",
    "    print ('Фразы равной длины')\n",
    "else: \n",
    "    print ('фраза 2 длиннее фразы 1')  "
   ]
  },
  {
   "cell_type": "code",
   "execution_count": 102,
   "metadata": {},
   "outputs": [
    {
     "name": "stdout",
     "output_type": "stream",
     "text": [
      "Фразы равной длины\n"
     ]
    }
   ],
   "source": [
    "phrase_1 = 'Насколько проще было бы писать программы, если бы не заказчики'\n",
    "phrase_2 = 'Насколько проще было бы писать программы, если бы не заказчики'\n",
    "a = len(phrase_1)\n",
    "b = len(phrase_2) \n",
    "if a > b: \n",
    "    print ('фраза 1 длинее фразы 2')\n",
    "elif a == b: \n",
    "    print ('Фразы равной длины')\n",
    "else: \n",
    "    print ('фраза 2 длиннее фразы 1')  "
   ]
  },
  {
   "cell_type": "markdown",
   "metadata": {},
   "source": [
    "## Задание 2\n",
    "Дана переменная, в которой хранится четырехзначное число (год). Необходимо написать программу, которая выведет, является ли данный год високосным или обычным.\n",
    "\n",
    "Чтобы определить, високосный год или нет, надо поделить номер года на 4 (если номер года заканчивается на два нуля, то на 400). Если делится без остатка, значит год является високосным, а если с остатком - то обычным, невисокосным. Пример для 2019 года: 2019 / 4 = 504,75.\n",
    "\n",
    "Пример работы программы:\n",
    "\n",
    "year = 2020\n",
    "Результат:\n",
    "Високосный год\n",
    "\n",
    "year = 2019\n",
    "Результат:\n",
    "Обычный год"
   ]
  },
  {
   "cell_type": "code",
   "execution_count": 103,
   "metadata": {},
   "outputs": [
    {
     "name": "stdout",
     "output_type": "stream",
     "text": [
      "2020 Високосный год\n"
     ]
    }
   ],
   "source": [
    "year = 2020\n",
    "\n",
    "if year % 4 == 0:\n",
    "    print (year, 'Високосный год')\n",
    "else: \n",
    "    print (year, 'Обычный год')  "
   ]
  },
  {
   "cell_type": "code",
   "execution_count": 105,
   "metadata": {},
   "outputs": [
    {
     "name": "stdout",
     "output_type": "stream",
     "text": [
      "2019 Обычный год\n"
     ]
    }
   ],
   "source": [
    "year = 2019\n",
    "\n",
    "if year % 4 == 0:\n",
    "    print (year, 'Високосный год')\n",
    "else: \n",
    "    print (year, 'Обычный год')          "
   ]
  },
  {
   "cell_type": "markdown",
   "metadata": {},
   "source": [
    "## Задание 3\n",
    "Необходимо написать программу, которая будет запрашивать у пользователя месяц и дату рождения и выводить соответствующий знак зодиака.\n",
    "\n",
    "Пример работы программы:\n",
    "\n",
    "Введите день:\n",
    "30\n",
    "\n",
    "Введите месяц:\n",
    "Август\n",
    "Результат:\n",
    "Ваш знак зодиака: Дева\n",
    "\n",
    "Введите день:\n",
    "29\n",
    "\n",
    "Введите месяц:\n",
    "Октябрь\n",
    "Результат:\n",
    "Ваш знак зодиака: Скорпион"
   ]
  },
  {
   "cell_type": "code",
   "execution_count": 106,
   "metadata": {
    "scrolled": true
   },
   "outputs": [
    {
     "name": "stdout",
     "output_type": "stream",
     "text": [
      "Введите день рождения:18\n",
      "Введите месяц рождения в цифровом формате:5\n",
      "ваш знак зодиака: Телец\n"
     ]
    }
   ],
   "source": [
    "day = int(input('Введите день рождения:'))\n",
    "month = int(input('Введите месяц рождения в цифровом формате:'))\n",
    "\n",
    "if (day>=21 and day<=31 and month==3) or( month==4 and day>=1 and day<=19):\n",
    "    print ('Ваш знак зодиака: Овен')\n",
    "    \n",
    "elif (day>=20 and day<=30 and month==4) or( month==5 and day>=1 and day<=20):\n",
    "    print ('ваш знак зодиака: Телец')\n",
    "\n",
    "elif (day>=21 and day<=31 and month==5) or( month==6 and day>=1 and day<=21):\n",
    "    print ('Ваш знак зодиака: Близнецы')\n",
    "\n",
    "elif (day>=22 and day<=30 and month==6) or( month==7 and day>=1 and day<=22):\n",
    "    print ('Ваш знак зодиака: Рак')\n",
    "\n",
    "elif (day>=23 and day<=31 and month==7) or( month==8 and day>=1 and day<=22):\n",
    "    print ('Ваш знак зодиака: Лев')\n",
    "\n",
    "elif (day>=23 and day<=31 and month==8) or( month==9 and day>=1 and day<=22):\n",
    "    print ('Ваш знак зодиака: Дева')\n",
    "\n",
    "elif (day>=23 and day<=30 and month==9) or( month==10 and day>=1 and day<=23):\n",
    "    print ('Ваш знак зодиака: Весы')\n",
    "\n",
    "elif (day>=24 and day<=31 and month==10) or( month==11 and day>=1 and day<=22):\n",
    "    print ('Ваш знак зодиака: Скорпион')\n",
    "\n",
    "elif (day>=23 and day<=30 and month==11) or( month==12 and day>=1 and day<=21):\n",
    "    print ('Ваш знак зодиака: Стрелец')\n",
    "\n",
    "elif (day>=22 and day<=31 and month==12) or( month==1 and day>=1 and day<=20):\n",
    "    print ('Ваш знак зодиака: Козерог')\n",
    "\n",
    "elif (day>=21 and day<=31 and month==1) or( month==2 and day>=1 and day<=18):\n",
    "    print ('Ваш знак зодиака: Водолей')\n",
    "\n",
    "elif (day>=19 and day<=29 and month==2) or( month==3 and day>=1 and day<=20):\n",
    "    print ('Ваш знак зодиака: Рыбы')    "
   ]
  },
  {
   "cell_type": "markdown",
   "metadata": {},
   "source": [
    "## Задание 4\n",
    "Вам нужно написать программу для подбора упаковок по размерам товара. Размеры хранятся в переменных (в сантиметрах):\n",
    "\n",
    "width = 10\n",
    "length = 205\n",
    "height = 5\n",
    "Используйте следующие правила:\n",
    "\n",
    "если каждое из трех измерений менее 15 сантиметров, то выведите на экран \"Коробка №1\";\n",
    "если хотя бы одно из измерений больше 15 сантиметров, но менее 50 сантиметров, то выводите \"Коробка №2\";\n",
    "если длина товара больше 2 метров, то выводите \"Упаковка для лыж\";\n",
    "во всех остальных случаях выводите \"Стандартная коробка №3\"."
   ]
  },
  {
   "cell_type": "code",
   "execution_count": 107,
   "metadata": {
    "scrolled": true
   },
   "outputs": [
    {
     "name": "stdout",
     "output_type": "stream",
     "text": [
      "Упаковка для лыж\n"
     ]
    }
   ],
   "source": [
    "width = 10 \n",
    "length = 205 \n",
    "height = 5 \n",
    "\n",
    "if width < 15 and length < 15 and height < 15: \n",
    "    print ('Коробка №1')\n",
    "    \n",
    "elif 15 < width < 50 or 15 < length < 50 or 15 < height < 50: \n",
    "    print ('Коробка №2') \n",
    "    \n",
    "elif length > 200: \n",
    "    print ('Упаковка для лыж')\n",
    "    \n",
    "else: \n",
    "    print ('Стандартная коробка №3')    \n",
    "    "
   ]
  },
  {
   "cell_type": "markdown",
   "metadata": {},
   "source": [
    "# Управляющие конструкции и коллекции"
   ]
  },
  {
   "cell_type": "markdown",
   "metadata": {},
   "source": [
    "## Задание 1\n",
    "\n",
    "Задание 1\n",
    "Дана переменная, в которой хранится слово из латинских букв. Напишите код, который выводит на экран:\n",
    "\n",
    "среднюю букву, если число букв в слове нечетное;\n",
    "две средних буквы, если число букв четное.\n",
    "Примеры работы программы:\n",
    "\n",
    "word = ‘test’\n",
    "Результат:\n",
    "es\n",
    "\n",
    "word = ‘testing’\n",
    "Результат:\n",
    "t"
   ]
  },
  {
   "cell_type": "code",
   "execution_count": 108,
   "metadata": {},
   "outputs": [
    {
     "name": "stdout",
     "output_type": "stream",
     "text": [
      "es\n"
     ]
    }
   ],
   "source": [
    "my_string = \"test\"\n",
    "x = len (my_string)\n",
    "if x % 2 == 0:\n",
    "    print (my_string[1:3])\n",
    "else:\n",
    "    print (my_string[3])  \n",
    "    \n",
    "    \n",
    "  "
   ]
  },
  {
   "cell_type": "code",
   "execution_count": 110,
   "metadata": {},
   "outputs": [
    {
     "name": "stdout",
     "output_type": "stream",
     "text": [
      "t\n"
     ]
    }
   ],
   "source": [
    "my_string = \"testing\"\n",
    "x = len (my_string)\n",
    "if x % 2 == 0:\n",
    "    print (my_string[1:3])\n",
    "else:\n",
    "    print (my_string[3])    \n",
    "    \n",
    "  "
   ]
  },
  {
   "cell_type": "markdown",
   "metadata": {},
   "source": [
    "## Задание 2\n",
    "Напишите программу, которая последовательно запрашивает у пользователя числа (по одному за раз) и после первого нуля выводит сумму всех ранее введенных чисел.\n",
    "\n",
    "Примеры работы программы:\n",
    "\n",
    "Введите число:\n",
    "1\n",
    "\n",
    "Введите число:\n",
    "4\n",
    "\n",
    "Введите число:\n",
    "6\n",
    "\n",
    "Введите число:\n",
    "0\n",
    "Результат:\n",
    "11\n",
    "\n",
    "Введите число:\n",
    "0\n",
    "Результат:\n",
    "0"
   ]
  },
  {
   "cell_type": "code",
   "execution_count": 114,
   "metadata": {
    "scrolled": false
   },
   "outputs": [
    {
     "name": "stdout",
     "output_type": "stream",
     "text": [
      "Введите целое число 2\n",
      "Введите целое число 5\n",
      "Введите целое число 12\n",
      "Введите целое число 4\n",
      "Введите целое число 0\n",
      "23\n"
     ]
    }
   ],
   "source": [
    "x = 1\n",
    "y = 0\n",
    "\n",
    "while x:\n",
    "    x = int(input('Введите целое число '))\n",
    "    y += x\n",
    "print(y)"
   ]
  },
  {
   "cell_type": "markdown",
   "metadata": {},
   "source": [
    "## Задание 3\n",
    "Мы делаем MVP dating-сервиса, и у нас есть список парней и девушек.\n",
    "Выдвигаем гипотезу: лучшие рекомендации мы получим, если просто отсортируем имена по алфавиту и познакомим людей с одинаковыми индексами после сортировки! Но мы не будем никого знакомить, если кто-то может остаться без пары:\n",
    "\n",
    "Примеры работы программы:\n",
    "\n",
    "boys = [‘Peter’, ‘Alex’, ‘John’, ‘Arthur’, ‘Richard’]\n",
    "girls = [‘Kate’, ‘Liza’, ‘Kira’, ‘Emma’, ‘Trisha’]\n",
    "Результат:\n",
    "\n",
    "Идеальные пары:\n",
    "Alex и Emma\n",
    "Arthur и Kate\n",
    "John и Kira\n",
    "Peter и Liza\n",
    "Richard и Trisha\n",
    "boys = [‘Peter’, ‘Alex’, ‘John’, ‘Arthur’, ‘Richard’, ‘Michael’]\n",
    "girls = [‘Kate’, ‘Liza’, ‘Kira’, ‘Emma’, ‘Trisha’]\n",
    "Результат:\n",
    "Внимание, кто-то может остаться без пары!\n",
    "    \n"
   ]
  },
  {
   "cell_type": "code",
   "execution_count": 116,
   "metadata": {},
   "outputs": [
    {
     "name": "stdout",
     "output_type": "stream",
     "text": [
      "всем хватает пары, знакомим в алфавитном порядке\n",
      "[('Alex', 'Emma'), ('Arthur', 'Kate'), ('John', 'Kira'), ('Peter', 'Liza'), ('Richard', 'Trisha')]\n"
     ]
    }
   ],
   "source": [
    "boys = ['Peter', 'Alex', 'John', 'Arthur', 'Richard']\n",
    "girls = ['Kate', 'Liza', 'Kira', 'Emma', 'Trisha',]\n",
    "\n",
    "x = len(boys)\n",
    "y = len(girls)\n",
    "\n",
    "if x==y:\n",
    "    print ('всем хватает пары, знакомим в алфавитном порядке') \n",
    "    \n",
    "    boys_sorted = sorted (boys)\n",
    "    girls_sorted = sorted (girls)\n",
    "    pairs = list((zip(boys_sorted, girls_sorted)))\n",
    "    \n",
    "    print(pairs)\n",
    "    \n",
    "else:\n",
    "    print ('не всем хватает пары, знакомить не будем')      "
   ]
  },
  {
   "cell_type": "code",
   "execution_count": 99,
   "metadata": {
    "scrolled": false
   },
   "outputs": [
    {
     "name": "stdout",
     "output_type": "stream",
     "text": [
      "не всем хватает пары, знакомить не будем\n"
     ]
    }
   ],
   "source": [
    "boys = ['Peter', 'Alex', 'John', 'Arthur', 'Richard', 'Michael’']\n",
    "girls = ['Kate', 'Liza', 'Kira', 'Emma', 'Trisha',]\n",
    "\n",
    "x = len(boys)\n",
    "y = len(girls)\n",
    "\n",
    "if x==y:\n",
    "    print ('всем хватает пары, знакомим в алфавитном порядке') \n",
    "    \n",
    "    boys_sorted = sorted (boys)\n",
    "    girls_sorted = sorted (girls)\n",
    "    pairs = list((zip(boys_sorted, girls_sorted)))\n",
    "    \n",
    "    print(pairs)\n",
    "    \n",
    "else:\n",
    "    print ('не всем хватает пары, знакомить не будем')  "
   ]
  },
  {
   "cell_type": "markdown",
   "metadata": {},
   "source": [
    "## Задание 4\n",
    "У нас есть список, содержащий информацию о среднедневной температуре в Фаренгейтах за произвольный период по странам (структура данных в примере). Необходимо написать код, который рассчитает среднюю температуру за период в Цельсиях(!) для каждой страны.\n",
    "\n",
    "Пример работы программы:\n",
    "\n",
    "countries_temperature = [\n",
    "[‘Thailand’, [75.2, 77, 78.8, 73.4, 68, 75.2, 77]],\n",
    "[‘Germany’, [57.2, 55.4, 59, 59, 53.6]],\n",
    "[‘Russia’, [35.6, 37.4, 39.2, 41, 42.8, 39.2, 35.6]],\n",
    "[‘Poland’, [50, 50, 53.6, 57.2, 55.4, 55.4]]\n",
    "]\n",
    "Результат:\n",
    "\n",
    "Средняя температура в странах: \n",
    "Thailand - 23.9 С \n",
    "Germany - 13.8 С \n",
    "Russia - 3.7 С \n",
    "Poland - 12.0 С"
   ]
  },
  {
   "cell_type": "code",
   "execution_count": 40,
   "metadata": {},
   "outputs": [
    {
     "name": "stdout",
     "output_type": "stream",
     "text": [
      "Thailand - 23.8 C\n",
      "Germany - 13.8 C\n",
      "Russia - 3.7 C\n",
      "Poland - 12.0 C\n"
     ]
    }
   ],
   "source": [
    "import numpy\n",
    "a = [75.2, 77, 78.8, 73.4, 68, 75.2, 77]\n",
    "x = (numpy.mean(a))\n",
    "b = (x - 32) * 0.555\n",
    "print ('Thailand -', round (b, 1), 'C')\n",
    "\n",
    "import numpy\n",
    "a = [57.2, 55.4, 59, 59, 53.6]\n",
    "x = (numpy.mean(a))\n",
    "b = (x - 32) * 0.555\n",
    "print ('Germany -', round (b, 1), 'C')\n",
    "\n",
    "import numpy\n",
    "a = [35.6, 37.4, 39.2, 41, 42.8, 39.2, 35.6]\n",
    "x = (numpy.mean(a))\n",
    "b = (x - 32) * 0.555\n",
    "print ('Russia -', round (b, 1), 'C')\n",
    "\n",
    "import numpy\n",
    "a = [50, 50, 53.6, 57.2, 55.4, 55.4]\n",
    "x = (numpy.mean(a))\n",
    "b = (x - 32) * 0.555\n",
    "print ('Poland -', round (b, 1), 'C')"
   ]
  },
  {
   "cell_type": "code",
   "execution_count": 4,
   "metadata": {},
   "outputs": [
    {
     "name": "stdout",
     "output_type": "stream",
     "text": [
      "n\n"
     ]
    }
   ],
   "source": [
    "string = 'Danger'\n",
    "letter = string[len(string) // 3]\n",
    "print (letter)"
   ]
  },
  {
   "cell_type": "markdown",
   "metadata": {},
   "source": [
    "# Управляющие конструкции и коллекции» часть 2"
   ]
  },
  {
   "cell_type": "markdown",
   "metadata": {},
   "source": [
    "### Задание 1\n",
    "Дана переменная, в которой хранится словарь, содержащий гео-метки для каждого пользователя (пример структуры данных приведен ниже). Вам необходимо написать программу, которая выведет на экран множество уникальных гео-меток всех пользователей.\n",
    "\n",
    "Пример работы программы:\n",
    "\n",
    "ids = {‘user1’: [213, 213, 213, 15, 213], \n",
    "‘user2’: [54, 54, 119, 119, 119], \n",
    "‘user3’: [213, 98, 98, 35]} \n",
    "Результат: {98, 35, 15, 213, 54, 119} "
   ]
  },
  {
   "cell_type": "code",
   "execution_count": 6,
   "metadata": {},
   "outputs": [
    {
     "name": "stdout",
     "output_type": "stream",
     "text": [
      "{98, 35, 15, 213, 54, 119}\n"
     ]
    }
   ],
   "source": [
    "\n",
    "ids = {'user1': [213, 213, 213, 15, 213],\n",
    "       'user2': [54, 54, 119, 119, 119],\n",
    "       'user3': [213, 98, 98, 35]}\n",
    "\n",
    "print(set(sum(ids.values(), [])))"
   ]
  },
  {
   "cell_type": "markdown",
   "metadata": {},
   "source": [
    "### Задание 2\n",
    "\n",
    "Дана переменная, в которой хранится список поисковых запросов пользователя (пример структуры данных приведен ниже). Вам необходимо написать программу, которая выведет на экран распределение количества слов в запросах в требуемом виде.\n",
    "\n",
    "Пример работы программы:\n",
    "\n",
    "queries = [\n",
    "‘смотреть сериалы онлайн’,\n",
    "‘новости спорта’,\n",
    "‘афиша кино’,\n",
    "‘курс доллара’,\n",
    "‘сериалы этим летом’,\n",
    "‘курс по питону’,\n",
    "‘сериалы про спорт’,\n",
    "]\n",
    "Результат:\n",
    "\n",
    "Поисковых запросов, содержащих 2 слов(а): 42.86%\n",
    "Поисковых запросов, содержащих 3 слов(а): 57.14%"
   ]
  },
  {
   "cell_type": "code",
   "execution_count": 14,
   "metadata": {},
   "outputs": [
    {
     "name": "stdout",
     "output_type": "stream",
     "text": [
      "Поисковых запросов из 2 слов:  42.86 %\n",
      "Поисковых запросов из 3 слов:  57.14 %\n"
     ]
    }
   ],
   "source": [
    "queries = [\n",
    "    'смотреть сериалы онлайн',\n",
    "    'новости спорта',\n",
    "    'афиша кино',\n",
    "    'курс доллара',\n",
    "    'сериалы этим летом',\n",
    "    'курс по питону',\n",
    "    'сериалы про спорт',\n",
    "]\n",
    "\n",
    "sum_2_words = 0\n",
    "sum_3_words = 0\n",
    "\n",
    "for words_qnty in queries:\n",
    "    if len(words_qnty.split()) == 2:\n",
    "        sum_2_words += 1    \n",
    "    else:\n",
    "        sum_3_words += 1\n",
    "\n",
    "total_summ = sum_2_words + sum_3_words\n",
    "      \n",
    "print('Поисковых запросов из 2 слов: ', round((sum_2_words / total_summ)*100, 2), '%')\n",
    "print('Поисковых запросов из 3 слов: ', round((sum_3_words / total_summ)*100, 2), '%')"
   ]
  },
  {
   "cell_type": "code",
   "execution_count": 8,
   "metadata": {},
   "outputs": [
    {
     "name": "stdout",
     "output_type": "stream",
     "text": [
      "Поисковых запросов из 3 слов: 57.14%\n",
      "Поисковых запросов из 2 слов: 42.86%\n"
     ]
    }
   ],
   "source": [
    "# второй вариант решения, для любого количества запросов\n",
    "\n",
    "queries = [\n",
    "    'смотреть сериалы онлайн',\n",
    "    'новости спорта',\n",
    "    'афиша кино',\n",
    "    'курс доллара',\n",
    "    'сериалы этим летом',\n",
    "    'курс по питону',\n",
    "    'сериалы про спорт',   \n",
    "]\n",
    "\n",
    "storage = {}\n",
    "\n",
    "for words_qnty in queries:\n",
    "    words = words_qnty.split()\n",
    "\n",
    "    if len(words) in storage.keys():\n",
    "        storage[len(words)] += 1\n",
    "    else:\n",
    "        storage.update({\n",
    "            len(words): 1\n",
    "        })\n",
    "\n",
    "for key, value in storage.items():\n",
    "    percent = round((value / len(queries)) * 100, 2)\n",
    "    print(f'Поисковых запросов из {key} слов: {percent}%')"
   ]
  },
  {
   "cell_type": "markdown",
   "metadata": {},
   "source": [
    "### Задание 3\n",
    "\n",
    "Дана переменная, в которой хранится информация о затратах и доходе рекламных кампаний по различным источникам. Необходимо дополнить исходную структуру показателем ROI, который рассчитаем по формуле: (revenue / cost - 1) * 100\n",
    "\n",
    "Пример работы программы:\n",
    "\n",
    "results = {\n",
    "‘vk’: {‘revenue’: 103, ‘cost’: 98},\n",
    "‘yandex’: {‘revenue’: 179, ‘cost’: 153},\n",
    "‘facebook’: {‘revenue’: 103, ‘cost’: 110},\n",
    "‘adwords’: {‘revenue’: 35, ‘cost’: 34},\n",
    "‘twitter’: {‘revenue’: 11, ‘cost’: 24},\n",
    "}\n",
    "\n",
    "Результат:\n",
    "\n",
    "{‘adwords’: {‘ROI’: 2.94, ‘cost’: 34, ‘revenue’: 35},\n",
    "‘facebook’: {‘ROI’: -6.36, ‘cost’: 110, ‘revenue’: 103},\n",
    "‘twitter’: {‘ROI’: -54.17, ‘cost’: 24, ‘revenue’: 11},\n",
    "‘vk’: {‘ROI’: 5.1, ‘cost’: 98, ‘revenue’: 103},\n",
    "‘yandex’: {‘ROI’: 16.99, ‘cost’: 153, ‘revenue’: 179}}"
   ]
  },
  {
   "cell_type": "code",
   "execution_count": 120,
   "metadata": {},
   "outputs": [
    {
     "name": "stdout",
     "output_type": "stream",
     "text": [
      "vk {'revenue': 103, 'cost': 98, 'ROI': 5.1}\n",
      "yandex {'revenue': 179, 'cost': 153, 'ROI': 16.99}\n",
      "facebook {'revenue': 103, 'cost': 110, 'ROI': -6.36}\n",
      "adwords {'revenue': 35, 'cost': 34, 'ROI': 2.94}\n",
      "twitter {'revenue': 11, 'cost': 24, 'ROI': -54.17}\n"
     ]
    }
   ],
   "source": [
    "results = {\n",
    "    'vk': {'revenue': 103, 'cost': 98},\n",
    "    'yandex': {'revenue': 179, 'cost': 153},\n",
    "    'facebook': {'revenue': 103, 'cost': 110},\n",
    "    'adwords': {'revenue': 35, 'cost': 34},\n",
    "    'twitter': {'revenue': 11, 'cost': 24},\n",
    "}\n",
    "\n",
    "for key, value in results.items():\n",
    "    ROI = round((value['revenue'] / value['cost']-1)*100, 2)\n",
    "    value['ROI'] = ROI\n",
    "    print(key, value)"
   ]
  },
  {
   "cell_type": "markdown",
   "metadata": {},
   "source": [
    "### Задание 4\n",
    "\n",
    "Дана переменная, в которой хранится статистика рекламных каналов по объемам продаж (пример структуры данных приведен ниже). Напишите программу, которая возвращает название канала с максимальным объемом продаж.\n",
    "\n",
    "Пример работы программы:\n",
    "\n",
    "stats = {‘facebook’: 55, ‘yandex’: 115, ‘vk’: 120, ‘google’: 99, ‘email’: 42, ‘ok’: 98}\n",
    "\n",
    "Результат: Максимальный объем продаж на рекламном канале: vk"
   ]
  },
  {
   "cell_type": "code",
   "execution_count": 1,
   "metadata": {},
   "outputs": [
    {
     "name": "stdout",
     "output_type": "stream",
     "text": [
      "Максимальный объем продаж на рекламном канале: {'vk': 120}\n"
     ]
    }
   ],
   "source": [
    "stats = {\n",
    "    'facebook': 55, \n",
    "    'yandex': 115, \n",
    "    'vk': 120, \n",
    "    'google': 99, \n",
    "    'email': 42, \n",
    "    'ok': 98}\n",
    "\n",
    "i = sorted(stats, key=stats.__getitem__)\n",
    "k = i[-1]\n",
    "print ('Максимальный объем продаж на рекламном канале:', {k: stats[k]})"
   ]
  },
  {
   "cell_type": "code",
   "execution_count": null,
   "metadata": {},
   "outputs": [],
   "source": []
  }
 ],
 "metadata": {
  "kernelspec": {
   "display_name": "Python 3",
   "language": "python",
   "name": "python3"
  },
  "language_info": {
   "codemirror_mode": {
    "name": "ipython",
    "version": 3
   },
   "file_extension": ".py",
   "mimetype": "text/x-python",
   "name": "python",
   "nbconvert_exporter": "python",
   "pygments_lexer": "ipython3",
   "version": "3.8.3"
  }
 },
 "nbformat": 4,
 "nbformat_minor": 4
}
