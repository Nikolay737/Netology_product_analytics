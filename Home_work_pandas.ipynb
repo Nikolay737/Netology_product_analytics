{
 "cells": [
  {
   "cell_type": "code",
   "execution_count": null,
   "metadata": {},
   "outputs": [],
   "source": [
    "import pandas as pd"
   ]
  },
  {
   "cell_type": "code",
   "execution_count": null,
   "metadata": {},
   "outputs": [],
   "source": [
    "# Задание 1\n",
    "# Скачайте с сайта https://grouplens.org/datasets/movielens/ датасет\n",
    "# любого размера. Определите какому фильму было выставлено больше всего\n",
    "# оценок 5.0.\n",
    "\n",
    "# recommended for education and development\n",
    "# Small: 100,000 ratings and 3,600 tag applications\n",
    "# applied to 9,000 movies by 600 users. Last updated 9/2018.\n",
    "# http://files.grouplens.org/datasets/movielens/ml-latest-small.zip\n",
    "\n",
    "ratings = pd.read_csv('ml-latest-small/ratings.csv')\n",
    "i = (ratings.query('rating == 5.0').groupby(['movieId'])['rating']\n",
    "     .count().idxmax())\n",
    "movies = pd.read_csv('ml-latest-small/movies.csv')\n",
    "best_film = movies[movies.movieId==i]"
   ]
  },
  {
   "cell_type": "code",
   "execution_count": null,
   "metadata": {},
   "outputs": [],
   "source": [
    "# Задание 2\n",
    "# По данным файла power.csv посчитайте суммарное потребление стран Прибалтики\n",
    "# (Латвия, Литва и Эстония) категорий 4, 12 и 21 за период с 2005 по 2010 года.\n",
    "# Не учитывайте в расчетах отрицательные значения quantity.\n",
    "\n",
    "data = pd.read_csv('power.csv')\n",
    "ds = data[data['year'].between(2005, 2010)].query(\n",
    "    \"country==['Lithuania', 'Latvia', 'Estonia']\"\n",
    "    \"and category==[4, 12, 21] and quantity>0\")\n",
    "\n",
    "# Сумарное потребление по всем трем категорям\n",
    "ds.quantity.sum()\n",
    "# 240580.0\n",
    "\n",
    "# Сумарное потребление по каждой из трех категоии\n",
    "ds.groupby('category').quantity.sum()\n",
    "\n",
    "# category\n",
    "# 4         46.0\n",
    "# 12      6326.0\n",
    "# 21    234208.0\n",
    "# Name: quantity, dtype: float64\n"
   ]
  },
  {
   "cell_type": "code",
   "execution_count": null,
   "metadata": {},
   "outputs": [],
   "source": [
    "# Задание 3\n",
    "# Выберите страницу любого сайта с табличными данными. Импортируйте таблицы\n",
    "# в pandas dataframe.\n",
    "table_MN = pd.read_html('https://en.wikipedia.org/wiki/Minnesota',\n",
    "                        match='Election results from statewide races')"
   ]
  },
  {
   "cell_type": "code",
   "execution_count": null,
   "metadata": {},
   "outputs": [],
   "source": [
    "# >>> table_MN\n",
    "# [    Year     Office    GOP    DFL Others\n",
    "# 0   2020  President  45.3%  52.4%   2.3%\n",
    "# 1   2020    Senator  43.5%  48.8%   7.7%\n",
    "# 2   2018   Governor  42.4%  53.9%   3.7%\n",
    "# 3   2018    Senator  36.2%  60.3%   3.4%\n",
    "# 4   2018    Senator  42.4%  53.0%   4.6%\n",
    "# 5   2016  President  44.9%  46.4%   8.6%\n",
    "# 6   2014   Governor  44.5%  50.1%   5.4%\n",
    "# 7   2014    Senator  42.9%  53.2%   3.9%\n",
    "# 8   2012  President  45.1%  52.8%   2.1%\n",
    "# 9   2012    Senator  30.6%  65.3%   4.1%\n",
    "# 10  2010   Governor  43.2%  43.7%  13.1%\n",
    "# 11  2008  President  43.8%  54.1%   2.1%\n",
    "# 12  2008    Senator  42.0%  42.0%  16.0%\n",
    "# 13  2006   Governor  46.7%  45.7%   7.6%\n",
    "# 14  2006    Senator  37.9%  58.1%   4.0%\n",
    "# 15  2004  President  47.6%  51.1%   1.3%\n",
    "# 16  2002   Governor  44.4%  33.5%  22.1%\n",
    "# 17  2002    Senator  49.5%  47.3%   1.0%\n",
    "# 18  2000  President  45.5%  47.9%   6.6%\n",
    "# 19  2000    Senator  43.3%  48.8%   7.9%\n",
    "# 20  1998   Governor  34.3%  28.1%  37.6%\n",
    "# 21  1996  President  35.0%  51.1%  13.9%\n",
    "# 22  1996    Senator  41.3%  50.3%   8.4%\n",
    "# 23  1994   Governor  63.3%  34.1%   2.6%\n",
    "# 24  1994    Senator  49.1%  44.1%   6.8%\n",
    "# 25  1992  President  31.9%  43.5%  24.6%]\n",
    "# >>> "
   ]
  }
 ],
 "metadata": {
  "kernelspec": {
   "display_name": "Python 3",
   "language": "python",
   "name": "python3"
  },
  "language_info": {
   "codemirror_mode": {
    "name": "ipython",
    "version": 3
   },
   "file_extension": ".py",
   "mimetype": "text/x-python",
   "name": "python",
   "nbconvert_exporter": "python",
   "pygments_lexer": "ipython3",
   "version": "3.8.3"
  }
 },
 "nbformat": 4,
 "nbformat_minor": 4
}
