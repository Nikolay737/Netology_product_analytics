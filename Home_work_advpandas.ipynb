{
 "cells": [
  {
   "cell_type": "code",
   "execution_count": null,
   "metadata": {
    "scrolled": true
   },
   "outputs": [],
   "source": [
    "import pandas as pd"
   ]
  },
  {
   "cell_type": "code",
   "execution_count": null,
   "metadata": {},
   "outputs": [],
   "source": [
    "# Задание 1\n",
    "# Для датафрейма log из материалов занятия создайте столбец\n",
    "# source_type по следующим правилам:\n",
    "# * если источник traffic_source равен yandex или google,\n",
    "#   то в source_type ставится organic\n",
    "# * для источников paid и email из России - ставим ad\n",
    "# * для источников paid и email не из России - ставим other\n",
    "# * все остальные варианты берем из traffic_source без изменений\n",
    "\n",
    "def src_type(row):\n",
    "    src = row['traffic_source']\n",
    "    if src == 'yandex' or src == 'google':\n",
    "        res = 'organic'\n",
    "    elif src == 'paid' or src == 'email':\n",
    "        res = 'ad' if row['region'] == 'Russia' else 'other'\n",
    "    else:\n",
    "        res = src\n",
    "    return res\n",
    "\n",
    "log = pd.read_csv('visit_log.csv', sep=';')\n",
    "log['source_type'] = log.apply(src_type, axis=1)"
   ]
  },
  {
   "cell_type": "code",
   "execution_count": null,
   "metadata": {},
   "outputs": [],
   "source": [
    "# Задание 2\n",
    "# В файле URLs.txt содержатся url страниц новостного сайта. Вам необходимо\n",
    "# отфильтровать его по адресам страниц с текстами новостей. Известно,\n",
    "# что шаблон страницы новостей имеет внутри url следующую конструкцию: /,\n",
    "# затем 8 цифр, затем дефис. Выполните следующие действия:\n",
    "#\n",
    "# 1. Прочитайте содержимое файла с датафрейм\n",
    "# 2. Отфильтруйте страницы с текстом новостей, используя метод\n",
    "#    str.contains и регулярное выражение в соответствии с заданным шаблоном\n",
    "\n",
    "urls = pd.read_table('URLs.txt')\n",
    "mask = urls['url'].str.contains(r'/\\d{8}-', regex=True)\n",
    "news = urls[mask]"
   ]
  },
  {
   "cell_type": "code",
   "execution_count": null,
   "metadata": {},
   "outputs": [],
   "source": [
    "# Задание 3\n",
    "# Сформулировано в конце кода занятия.\n",
    "\n",
    "# В датафрейме data создайте столбец lemmas, в котором вычислите леммы\n",
    "# поисковых запросов из столбца keyword. Леммы должны иметь строковый тип.\n",
    "\n",
    "from pymystem3 import Mystem\n",
    "from string import punctuation\n",
    "\n",
    "m = Mystem()\n",
    "\n",
    "data = pd.DataFrame({\n",
    "    'keyword': ['курс гривны к рублю', 'доллары в рубли', '100 долларов в рублях', 'курс рубля'],\n",
    "    'shows': [125076, 114173, 97534, 53546],\n",
    "})\n",
    "\n",
    "def lemmas(keyword):\n",
    "    tokens = m.lemmatize(keyword.lower())\n",
    "    tokens = [token for token in tokens if token != \" \" \\\n",
    "              and token.strip() not in punctuation]\n",
    "    return ' '.join(tokens)\n",
    "\n",
    "data['lemmas'] = data.keyword.apply(lemmas)"
   ]
  }
 ],
 "metadata": {
  "kernelspec": {
   "display_name": "Python 3",
   "language": "python",
   "name": "python3"
  },
  "language_info": {
   "codemirror_mode": {
    "name": "ipython",
    "version": 3
   },
   "file_extension": ".py",
   "mimetype": "text/x-python",
   "name": "python",
   "nbconvert_exporter": "python",
   "pygments_lexer": "ipython3",
   "version": "3.8.3"
  }
 },
 "nbformat": 4,
 "nbformat_minor": 4
}
