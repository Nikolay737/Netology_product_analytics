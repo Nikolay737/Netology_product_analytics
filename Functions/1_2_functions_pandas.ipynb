{
 "cells": [
  {
   "cell_type": "code",
   "execution_count": null,
   "metadata": {},
   "outputs": [],
   "source": [
    "import pandas as pd\n",
    "ratings = pd.read_csv('ratings.csv')\n",
    "print(ratings.head())\n",
    "def score(raw):\n",
    "    if raw<=2:\n",
    "        return 'low'\n",
    "    if raw<=4 and raw>2:\n",
    "        return 'middle'\n",
    "    if raw>4:\n",
    "        return 'high'\n",
    "ratings['score'] = ratings['rating'].apply(score)\n",
    "\n",
    "keyw = pd.read_csv('keywords.csv')\n",
    "def check(raw, string):\n",
    "    count = 0\n",
    "    for x in range(len(raw.split())):\n",
    "        if raw.split()[x][0:len(string)].lower() == string.lower():\n",
    "            count += 1\n",
    "    if count > 0:\n",
    "        return True\n",
    "    else:\n",
    "        return False\n",
    "def geo(raw):\n",
    "    if (check(raw, 'москв')) or (check(raw,'тул')) or (check(raw,'ярославл')):\n",
    "        return 'Центр'\n",
    "    if (check(raw, 'петербург')) or (check(raw, 'псков')) or (check(raw, 'мурманск')):\n",
    "        return 'Северо-Запад'\n",
    "    if (check(raw, 'владивосток')) or (check(raw, 'сахалин')) or (check(raw, 'хабаровск')):\n",
    "        return 'Дальний Восток'\n",
    "    else:\n",
    "        return \"undefined\"\n",
    "\n",
    "keyw['region'] = keyw['keyword'].apply(geo)\n",
    "print(keyw.info())\n"
   ]
  }
 ],
 "metadata": {
  "kernelspec": {
   "display_name": "Python 3",
   "language": "python",
   "name": "python3"
  },
  "language_info": {
   "codemirror_mode": {
    "name": "ipython",
    "version": 3
   },
   "file_extension": ".py",
   "mimetype": "text/x-python",
   "name": "python",
   "nbconvert_exporter": "python",
   "pygments_lexer": "ipython3",
   "version": "3.8.3"
  }
 },
 "nbformat": 4,
 "nbformat_minor": 4
}
