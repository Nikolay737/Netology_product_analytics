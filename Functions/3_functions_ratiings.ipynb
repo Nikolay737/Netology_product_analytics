{
 "cells": [
  {
   "cell_type": "code",
   "execution_count": null,
   "metadata": {},
   "outputs": [],
   "source": [
    "import pandas as pd\n",
    "pd.set_option('display.max_columns', 14)\n",
    "pd.set_option('display.width', 280)\n",
    "ratings_full = pd.read_csv('ratings_full.csv')\n",
    "\n",
    "movies = pd.read_csv('movies.csv')\n",
    "movies.drop_duplicates(subset='movieId', keep='first', inplace=True)\n",
    "ratings_join = ratings_full.merge(movies, how='left', on='movieId')\n",
    "year = []\n",
    "for i in range(1950,2011):\n",
    "    year.append(i)\n",
    "def production_year(raw):\n",
    "    count = 0\n",
    "    for i in range(0,len(year)):\n",
    "        if str(year[i]) in raw:\n",
    "            count += 1\n",
    "            return year[i]\n",
    "            break\n",
    "    if count==0:\n",
    "        return '1900'\n",
    "ratings_join['year'] = ratings_join['title'].apply(production_year)\n",
    "rat_year = ratings_join.groupby('year').mean()[['rating']].sort_values('rating', ascending=False)\n",
    "print(rat_year)"
   ]
  }
 ],
 "metadata": {
  "kernelspec": {
   "display_name": "Python 3",
   "language": "python",
   "name": "python3"
  },
  "language_info": {
   "codemirror_mode": {
    "name": "ipython",
    "version": 3
   },
   "file_extension": ".py",
   "mimetype": "text/x-python",
   "name": "python",
   "nbconvert_exporter": "python",
   "pygments_lexer": "ipython3",
   "version": "3.8.3"
  }
 },
 "nbformat": 4,
 "nbformat_minor": 4
}
