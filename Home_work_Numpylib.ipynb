{
 "cells": [
  {
   "cell_type": "code",
   "execution_count": 1,
   "metadata": {},
   "outputs": [],
   "source": [
    "import numpy as np\n",
    "\n",
    "\n",
    "# Задание 1\n",
    "# Создайте numpy array с элементами от числа N до 0 (например,\n",
    "# для N = 10 это будет array([9, 8, 7, 6, 5, 4, 3, 2, 1, 0])).\n",
    "\n",
    "N = 10\n",
    "arr = np.arange(0, N)[::-1]"
   ]
  },
  {
   "cell_type": "code",
   "execution_count": 4,
   "metadata": {},
   "outputs": [],
   "source": [
    "# Задание 2\n",
    "# Создайте диагональную матрицу с элементами от N до 0. Посчитайте\n",
    "# сумму ее значений на диагонали.\n",
    "\n",
    "N = 3\n",
    "\n",
    "arr = np.arange(0, N+1)[::-1]\n",
    "mat = np.diag(arr)\n",
    "diagonal_sum = np.trace(mat)"
   ]
  },
  {
   "cell_type": "code",
   "execution_count": 3,
   "metadata": {},
   "outputs": [
    {
     "name": "stdout",
     "output_type": "stream",
     "text": [
      "x=0.4666666666666668, y=3.844444444444444, z=-5.555555555555555\n"
     ]
    }
   ],
   "source": [
    "# Задание 3\n",
    "# Решите систему уравнений:\n",
    "# 4x + 2y + z = 4\n",
    "# x + 3y = 12\n",
    "# 5y + 4z = -3\n",
    "\n",
    "# матрица коэффициентов перед переменными\n",
    "M1 = np.array([\n",
    "    [4., 2., 1.],\n",
    "    [1., 3., 0],\n",
    "    [0, 5., 4.]])\n",
    "# вектор свободных членов\n",
    "v1 = np.array([4., 12., -3.])\n",
    "\n",
    "result = np.linalg.solve(M1, v1)\n",
    "print('x={}, y={}, z={}'.format(*result))"
   ]
  },
  {
   "cell_type": "code",
   "execution_count": 7,
   "metadata": {},
   "outputs": [
    {
     "name": "stdout",
     "output_type": "stream",
     "text": [
      "user_stats[7] => [0 1 1 0 0 0]\n",
      "Cos similarity:  0.9486832980505138\n"
     ]
    }
   ],
   "source": [
    "# Задание 4\n",
    "# В материалах занятия раздел “Задача 4 домашнего задания”\n",
    "\n",
    "# Имеется матрица покупок в интернет-магазине. Столбец А - ID пользователя.\n",
    "# Остальные столбцы - количество покупок категорий товаров этим пользователем:\n",
    "users_stats = np.array(\n",
    "    [\n",
    "        [2, 1, 0, 0, 0, 0],\n",
    "        [1, 1, 2, 1, 0, 0],\n",
    "        [2, 0, 1, 0, 0, 0],\n",
    "        [1, 1, 2, 1, 0, 1],\n",
    "        [0, 0, 1, 2, 0, 0],\n",
    "        [0, 0, 0, 0, 0, 5],\n",
    "        [1, 0, 0, 0, 0, 0],\n",
    "        [0, 1, 1, 0, 0, 0],\n",
    "        [0, 0, 0, 1, 1, 3],\n",
    "        [1, 0, 0, 2, 1, 4]\n",
    "    ],\n",
    "    np.int32\n",
    ")\n",
    "# На сайт заходит очередной посетитель, о покупках которого известно следующее:\n",
    "next_user_stats = np.array([0, 1, 2, 0, 0, 0])\n",
    "\n",
    "# Найдите самого похожего пользователя. Т. е. посчитайте косинусное сходство\n",
    "# между этим пользователем и всеми пользователями из массива user_stats\n",
    "\n",
    "def cosine(a, b):\n",
    "    \"\"\"Подсчет косинуса угла между векторами a, b по их координатам\"\"\"\n",
    "    # длины векторов\n",
    "    aLength = np.linalg.norm(a)\n",
    "    bLength = np.linalg.norm(b)\n",
    "    return np.dot(a, b) / (aLength * bLength)\n",
    "\n",
    "max_sim = 0.0\n",
    "max_n = i = 0\n",
    "\n",
    "for v in users_stats:\n",
    "    sim = cosine(v, next_user_stats)\n",
    "    if sim > max_sim:\n",
    "        max_sim = sim\n",
    "        max_n = i\n",
    "    i += 1\n",
    "\n",
    "print('user_stats[{}] => {}'.format(max_n, users_stats[max_n]))\n",
    "print('Cos similarity: ', max_sim)"
   ]
  },
  {
   "cell_type": "code",
   "execution_count": null,
   "metadata": {},
   "outputs": [],
   "source": []
  }
 ],
 "metadata": {
  "kernelspec": {
   "display_name": "Python 3",
   "language": "python",
   "name": "python3"
  },
  "language_info": {
   "codemirror_mode": {
    "name": "ipython",
    "version": 3
   },
   "file_extension": ".py",
   "mimetype": "text/x-python",
   "name": "python",
   "nbconvert_exporter": "python",
   "pygments_lexer": "ipython3",
   "version": "3.8.3"
  }
 },
 "nbformat": 4,
 "nbformat_minor": 4
}
