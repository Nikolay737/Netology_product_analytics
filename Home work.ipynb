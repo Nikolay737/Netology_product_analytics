{
 "cells": [
  {
   "cell_type": "markdown",
   "metadata": {},
   "source": [
    "# Основы Python"
   ]
  },
  {
   "cell_type": "markdown",
   "metadata": {},
   "source": [
    "## Задание №1\n",
    "Напишите код, который проверяет какая из этих строк длиннее."
   ]
  },
  {
   "cell_type": "code",
   "execution_count": null,
   "metadata": {},
   "outputs": [],
   "source": [
    "phrase_1 = 'Насколько проще было бы писать программы, если бы не заказчики'\n",
    "phrase_2 = '640Кб должно хватить для любых задач. Билл Гейтс (по легенде)'\n",
    "a = len(phrase_1)\n",
    "b = len(phrase_2) \n",
    "if a > b: \n",
    "    print('фраза 1 длинее фразы 2')\n",
    "elif a == b: \n",
    "    print('Фразы равной длины')\n",
    "else: \n",
    "    print('фраза 2 длиннее фразы 1')    "
   ]
  },
  {
   "cell_type": "code",
   "execution_count": null,
   "metadata": {},
   "outputs": [],
   "source": [
    "phrase_1 = '640Кб должно хватить для любых задач. Билл Гейтс (по легенде)'\n",
    "phrase_2 = 'Насколько проще было бы писать программы, если бы не заказчики'\n",
    "\n",
    "a = len(phrase_1)\n",
    "b = len(phrase_2) \n",
    "\n",
    "if a > b: \n",
    "    print('фраза 1 длинее фразы 2')\n",
    "elif a == b: \n",
    "    print('Фразы равной длины')\n",
    "else: \n",
    "    print('фраза 2 длиннее фразы 1')  "
   ]
  },
  {
   "cell_type": "code",
   "execution_count": null,
   "metadata": {},
   "outputs": [],
   "source": [
    "phrase_1 = 'Насколько проще было бы писать программы, если бы не заказчики'\n",
    "phrase_2 = 'Насколько проще было бы писать программы, если бы не заказчики'\n",
    "a = len(phrase_1)\n",
    "b = len(phrase_2) \n",
    "if a > b: \n",
    "    print('фраза 1 длинее фразы 2')\n",
    "elif a == b: \n",
    "    print('Фразы равной длины')\n",
    "else: \n",
    "    print('фраза 2 длиннее фразы 1')  "
   ]
  },
  {
   "cell_type": "markdown",
   "metadata": {},
   "source": [
    "## Задание 2\n",
    "Дана переменная, в которой хранится четырехзначное число (год). Необходимо написать программу, которая выведет, является ли данный год високосным или обычным.\n",
    "\n",
    "Чтобы определить, високосный год или нет, надо поделить номер года на 4 (если номер года заканчивается на два нуля, то на 400). Если делится без остатка, значит год является високосным, а если с остатком - то обычным, невисокосным. Пример для 2019 года: 2019 / 4 = 504,75.\n",
    "\n",
    "Пример работы программы:\n",
    "\n",
    "year = 2020\n",
    "Результат:\n",
    "Високосный год\n",
    "\n",
    "year = 2019\n",
    "Результат:\n",
    "Обычный год"
   ]
  },
  {
   "cell_type": "code",
   "execution_count": null,
   "metadata": {},
   "outputs": [],
   "source": [
    "year = 2020\n",
    "\n",
    "if (year % 4 == 0 and year % 100 != 0) or year % 400 == 0:\n",
    "    print(year, 'Високосный год')\n",
    "else: \n",
    "    print(year, 'Обычный год')  "
   ]
  },
  {
   "cell_type": "code",
   "execution_count": null,
   "metadata": {},
   "outputs": [],
   "source": [
    "year = 2019\n",
    "\n",
    "if year % 4 == 0:\n",
    "    print(year, 'Високосный год')\n",
    "else: \n",
    "    print(year, 'Обычный год')          "
   ]
  },
  {
   "cell_type": "markdown",
   "metadata": {},
   "source": [
    "## Задание 3\n",
    "Необходимо написать программу, которая будет запрашивать у пользователя месяц и дату рождения и выводить соответствующий знак зодиака.\n",
    "\n",
    "Пример работы программы:\n",
    "\n",
    "Введите день:\n",
    "30\n",
    "\n",
    "Введите месяц:\n",
    "Август\n",
    "Результат:\n",
    "Ваш знак зодиака: Дева\n",
    "\n",
    "Введите день:\n",
    "29\n",
    "\n",
    "Введите месяц:\n",
    "Октябрь\n",
    "Результат:\n",
    "Ваш знак зодиака: Скорпион"
   ]
  },
  {
   "cell_type": "code",
   "execution_count": null,
   "metadata": {
    "scrolled": true
   },
   "outputs": [],
   "source": [
    "day = int(input('Введите день рождения:'))\n",
    "month = int(input('Введите месяц рождения в цифровом формате:'))\n",
    "\n",
    "if(day>=21 and day<=31 and month==3) or( month==4 and day>=1 and day<=19):\n",
    "    print('Ваш знак зодиака: Овен')\n",
    "    \n",
    "elif(day>=20 and day<=30 and month==4) or( month==5 and day>=1 and day<=20):\n",
    "    print('ваш знак зодиака: Телец')\n",
    "\n",
    "elif(day>=21 and day<=31 and month==5) or( month==6 and day>=1 and day<=21):\n",
    "    print('Ваш знак зодиака: Близнецы')\n",
    "\n",
    "elif(day>=22 and day<=30 and month==6) or( month==7 and day>=1 and day<=22):\n",
    "    print('Ваш знак зодиака: Рак')\n",
    "\n",
    "elif(day>=23 and day<=31 and month==7) or( month==8 and day>=1 and day<=22):\n",
    "    print('Ваш знак зодиака: Лев')\n",
    "\n",
    "elif(day>=23 and day<=31 and month==8) or( month==9 and day>=1 and day<=22):\n",
    "    print('Ваш знак зодиака: Дева')\n",
    "\n",
    "elif(day>=23 and day<=30 and month==9) or( month==10 and day>=1 and day<=23):\n",
    "    print('Ваш знак зодиака: Весы')\n",
    "\n",
    "elif(day>=24 and day<=31 and month==10) or( month==11 and day>=1 and day<=22):\n",
    "    print('Ваш знак зодиака: Скорпион')\n",
    "\n",
    "elif(day>=23 and day<=30 and month==11) or( month==12 and day>=1 and day<=21):\n",
    "    print('Ваш знак зодиака: Стрелец')\n",
    "\n",
    "elif(day>=22 and day<=31 and month==12) or( month==1 and day>=1 and day<=20):\n",
    "    print('Ваш знак зодиака: Козерог')\n",
    "\n",
    "elif(day>=21 and day<=31 and month==1) or( month==2 and day>=1 and day<=18):\n",
    "    print('Ваш знак зодиака: Водолей')\n",
    "\n",
    "elif(day>=19 and day<=29 and month==2) or( month==3 and day>=1 and day<=20):\n",
    "    print('Ваш знак зодиака: Рыбы')    "
   ]
  },
  {
   "cell_type": "markdown",
   "metadata": {},
   "source": [
    "## Задание 4\n",
    "Вам нужно написать программу для подбора упаковок по размерам товара. Размеры хранятся в переменных (в сантиметрах):\n",
    "\n",
    "width = 10\n",
    "length = 205\n",
    "height = 5\n",
    "Используйте следующие правила:\n",
    "\n",
    "если каждое из трех измерений менее 15 сантиметров, то выведите на экран \"Коробка №1\";\n",
    "если хотя бы одно из измерений больше 15 сантиметров, но менее 50 сантиметров, то выводите \"Коробка №2\";\n",
    "если длина товара больше 2 метров, то выводите \"Упаковка для лыж\";\n",
    "во всех остальных случаях выводите \"Стандартная коробка №3\"."
   ]
  },
  {
   "cell_type": "code",
   "execution_count": null,
   "metadata": {
    "scrolled": true
   },
   "outputs": [],
   "source": [
    "width = 10 \n",
    "length = 205 \n",
    "height = 5 \n",
    "\n",
    "if width < 15 and length < 15 and height < 15: \n",
    "    print('Коробка №1')\n",
    "    \n",
    "elif 15 < width < 50 or 15 < length < 50 or 15 < height < 50: \n",
    "    print('Коробка №2') \n",
    "    \n",
    "elif length > 200: \n",
    "    print('Упаковка для лыж')\n",
    "    \n",
    "else: \n",
    "    print('Стандартная коробка №3')    "
   ]
  },
  {
   "cell_type": "code",
   "execution_count": null,
   "metadata": {},
   "outputs": [],
   "source": [
    "#у вас выводится Коробка №2, хотя по условию должна быть упаковка для лыж. \n",
    "#Поправил за счет последовательности выполнения кода.\n",
    "width = 45 \n",
    "length = 205 \n",
    "height = 45 \n",
    "\n",
    "if width < 15 and length < 15 and height < 15: \n",
    "    print('Коробка №1')\n",
    "    \n",
    "elif length > 200: \n",
    "    print('Упаковка для лыж')\n",
    "    \n",
    "elif 15 < width < 50 or 15 < length < 50 or 15 < height < 50: \n",
    "    print('Коробка №2')\n",
    "    \n",
    "else: \n",
    "    print('Стандартная коробка №3')    "
   ]
  },
  {
   "cell_type": "markdown",
   "metadata": {},
   "source": [
    "# Управляющие конструкции и коллекции"
   ]
  },
  {
   "cell_type": "markdown",
   "metadata": {},
   "source": [
    "## Задание 1\n",
    "\n",
    "Задание 1\n",
    "Дана переменная, в которой хранится слово из латинских букв. Напишите код, который выводит на экран:\n",
    "\n",
    "среднюю букву, если число букв в слове нечетное;\n",
    "две средних буквы, если число букв четное.\n",
    "Примеры работы программы:\n",
    "\n",
    "word = ‘test’\n",
    "Результат:\n",
    "es\n",
    "\n",
    "word = ‘testing’\n",
    "Результат:\n",
    "t"
   ]
  },
  {
   "cell_type": "code",
   "execution_count": null,
   "metadata": {},
   "outputs": [],
   "source": [
    "my_string = \"test\"\n",
    "x = len(my_string)\n",
    "y = len(my_string)//2\n",
    "if x % 2 == 0:\n",
    "    print(my_string[y-1:y+1])\n",
    "else:\n",
    "    print(my_string[y])   "
   ]
  },
  {
   "cell_type": "code",
   "execution_count": null,
   "metadata": {},
   "outputs": [],
   "source": [
    "my_string = \"testing\"\n",
    "x = len(my_string)\n",
    "y = len(my_string)//2\n",
    "if x % 2 == 0:\n",
    "    print(my_string[y-1:y+1])\n",
    "else:\n",
    "    print(my_string[y])   "
   ]
  },
  {
   "cell_type": "markdown",
   "metadata": {},
   "source": [
    "## Задание 2\n",
    "Напишите программу, которая последовательно запрашивает у пользователя числа (по одному за раз) и после первого нуля выводит сумму всех ранее введенных чисел.\n",
    "\n",
    "Примеры работы программы:\n",
    "\n",
    "Введите число:\n",
    "1\n",
    "\n",
    "Введите число:\n",
    "4\n",
    "\n",
    "Введите число:\n",
    "6\n",
    "\n",
    "Введите число:\n",
    "0\n",
    "Результат:\n",
    "11\n",
    "\n",
    "Введите число:\n",
    "0\n",
    "Результат:\n",
    "0"
   ]
  },
  {
   "cell_type": "code",
   "execution_count": null,
   "metadata": {
    "scrolled": false
   },
   "outputs": [],
   "source": [
    "x = 1\n",
    "y = 0\n",
    "\n",
    "while x:\n",
    "    x = int(input('Введите целое число '))\n",
    "    y += x\n",
    "print(y)"
   ]
  },
  {
   "cell_type": "markdown",
   "metadata": {},
   "source": [
    "## Задание 3\n",
    "Мы делаем MVP dating-сервиса, и у нас есть список парней и девушек.\n",
    "Выдвигаем гипотезу: лучшие рекомендации мы получим, если просто отсортируем имена по алфавиту и познакомим людей с одинаковыми индексами после сортировки! Но мы не будем никого знакомить, если кто-то может остаться без пары:\n",
    "\n",
    "Примеры работы программы:\n",
    "\n",
    "boys = [‘Peter’, ‘Alex’, ‘John’, ‘Arthur’, ‘Richard’]\n",
    "girls = [‘Kate’, ‘Liza’, ‘Kira’, ‘Emma’, ‘Trisha’]\n",
    "Результат:\n",
    "\n",
    "Идеальные пары:\n",
    "Alex и Emma\n",
    "Arthur и Kate\n",
    "John и Kira\n",
    "Peter и Liza\n",
    "Richard и Trisha\n",
    "boys = [‘Peter’, ‘Alex’, ‘John’, ‘Arthur’, ‘Richard’, ‘Michael’]\n",
    "girls = [‘Kate’, ‘Liza’, ‘Kira’, ‘Emma’, ‘Trisha’]\n",
    "Результат:\n",
    "Внимание, кто-то может остаться без пары!\n",
    "    \n"
   ]
  },
  {
   "cell_type": "code",
   "execution_count": null,
   "metadata": {},
   "outputs": [],
   "source": [
    "boys = ['Peter', 'Alex', 'John', 'Arthur', 'Richard']\n",
    "girls = ['Kate', 'Liza', 'Kira', 'Emma', 'Trisha',]\n",
    "\n",
    "x = len(boys)\n",
    "y = len(girls)\n",
    "\n",
    "if x==y:\n",
    "    print ('всем хватает пары, знакомим в алфавитном порядке') \n",
    "    \n",
    "    boys_sorted = sorted (boys)\n",
    "    girls_sorted = sorted (girls)\n",
    "    pairs = list((zip(boys_sorted, girls_sorted)))\n",
    "    \n",
    "    print(pairs)\n",
    "    \n",
    "else:\n",
    "    print('не всем хватает пары, знакомить не будем')      "
   ]
  },
  {
   "cell_type": "code",
   "execution_count": null,
   "metadata": {
    "scrolled": false
   },
   "outputs": [],
   "source": [
    "boys = ['Peter', 'Alex', 'John', 'Arthur', 'Richard', 'Michael’']\n",
    "girls = ['Kate', 'Liza', 'Kira', 'Emma', 'Trisha',]\n",
    "\n",
    "x = len(boys)\n",
    "y = len(girls)\n",
    "\n",
    "if x==y:\n",
    "    print('всем хватает пары, знакомим в алфавитном порядке') \n",
    "    \n",
    "    boys_sorted = sorted (boys)\n",
    "    girls_sorted = sorted (girls)\n",
    "    pairs = list((zip(boys_sorted, girls_sorted)))\n",
    "    \n",
    "    print(pairs)\n",
    "    \n",
    "else:\n",
    "    print('не всем хватает пары, знакомить не будем')  "
   ]
  },
  {
   "cell_type": "markdown",
   "metadata": {},
   "source": [
    "## Задание 4\n",
    "У нас есть список, содержащий информацию о среднедневной температуре в Фаренгейтах за произвольный период по странам (структура данных в примере). Необходимо написать код, который рассчитает среднюю температуру за период в Цельсиях(!) для каждой страны.\n",
    "\n",
    "Пример работы программы:\n",
    "\n",
    "countries_temperature = [\n",
    "[‘Thailand’, [75.2, 77, 78.8, 73.4, 68, 75.2, 77]],\n",
    "[‘Germany’, [57.2, 55.4, 59, 59, 53.6]],\n",
    "[‘Russia’, [35.6, 37.4, 39.2, 41, 42.8, 39.2, 35.6]],\n",
    "[‘Poland’, [50, 50, 53.6, 57.2, 55.4, 55.4]]\n",
    "]\n",
    "Результат:\n",
    "\n",
    "Средняя температура в странах: \n",
    "Thailand - 23.9 С \n",
    "Germany - 13.8 С \n",
    "Russia - 3.7 С \n",
    "Poland - 12.0 С"
   ]
  },
  {
   "cell_type": "code",
   "execution_count": 17,
   "metadata": {},
   "outputs": [
    {
     "name": "stdout",
     "output_type": "stream",
     "text": [
      "Thailand - 23.8 C\n",
      "Germany - 13.8 C\n",
      "Russia - 3.7 C\n",
      "Poland - 12.0 C\n"
     ]
    }
   ],
   "source": [
    "#старое решение\n",
    "import numpy\n",
    "a = [75.2, 77, 78.8, 73.4, 68, 75.2, 77]\n",
    "x = (numpy.mean(a))\n",
    "b = (x - 32) * 0.555\n",
    "print('Thailand -', round (b, 1), 'C')\n",
    "\n",
    "import numpy\n",
    "a = [57.2, 55.4, 59, 59, 53.6]\n",
    "x = (numpy.mean(a))\n",
    "b = (x - 32) * 0.555\n",
    "print('Germany -', round (b, 1), 'C')\n",
    "\n",
    "import numpy\n",
    "a = [35.6, 37.4, 39.2, 41, 42.8, 39.2, 35.6]\n",
    "x = (numpy.mean(a))\n",
    "b = (x - 32) * 0.555\n",
    "print('Russia -', round (b, 1), 'C')\n",
    "\n",
    "import numpy\n",
    "a = [50, 50, 53.6, 57.2, 55.4, 55.4]\n",
    "x = (numpy.mean(a))\n",
    "b = (x - 32) * 0.555\n",
    "print('Poland -', round (b, 1), 'C')"
   ]
  },
  {
   "cell_type": "code",
   "execution_count": 25,
   "metadata": {},
   "outputs": [
    {
     "name": "stdout",
     "output_type": "stream",
     "text": [
      "Thailand - 23.9 C\n"
     ]
    }
   ],
   "source": [
    "#новое решение под любое кол-во введенных данных о температуре\n",
    "country = 'Thailand'\n",
    "t = [75.2, 77, 78.8, 73.4, 68, 75.2, 77]\n",
    "t1 = [float(x) for x in t]\n",
    "t2 = sum(t1)/len(t1)\n",
    "t3 = len(t)\n",
    "tC = 5 / 9 * (t2 - 32)\n",
    "print(country,'-', round(tC,1), 'C')"
   ]
  }
 ],
 "metadata": {
  "kernelspec": {
   "display_name": "Python 3",
   "language": "python",
   "name": "python3"
  },
  "language_info": {
   "codemirror_mode": {
    "name": "ipython",
    "version": 3
   },
   "file_extension": ".py",
   "mimetype": "text/x-python",
   "name": "python",
   "nbconvert_exporter": "python",
   "pygments_lexer": "ipython3",
   "version": "3.8.3"
  }
 },
 "nbformat": 4,
 "nbformat_minor": 4
}
